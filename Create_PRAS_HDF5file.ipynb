{
 "cells": [
  {
   "cell_type": "code",
   "execution_count": 9,
   "metadata": {},
   "outputs": [],
   "source": [
    "import numpy as np\n",
    "import pandas as pd\n",
    "import h5py\n",
    "import json\n",
    "import os"
   ]
  },
  {
   "cell_type": "markdown",
   "metadata": {},
   "source": [
    "imports of MISO data"
   ]
  },
  {
   "cell_type": "code",
   "execution_count": 135,
   "metadata": {},
   "outputs": [],
   "source": [
    "#print(os.getcwd())\n",
    "seams_transmission_df = pd.read_excel(os.path.join(os.getcwd(),'NREL-Seams Model (MISO).xlsx'),sheet_name='Transmission')\n",
    "seams_generation_df = pd.read_excel(os.path.join(os.getcwd(),'NREL-Seams Model (MISO).xlsx'),sheet_name='Generation')\n",
    "seams_load_df = pd.read_excel(os.path.join(os.getcwd(),'NREL-Seams Model (MISO).xlsx'),sheet_name='Load')\n",
    "seams_mapping_df = pd.read_excel(os.path.join(os.getcwd(),'NREL-Seams Model (MISO).xlsx'),sheet_name='Mapping')"
   ]
  },
  {
   "cell_type": "markdown",
   "metadata": {},
   "source": [
    "imports of additional data from online MISO-related portals?"
   ]
  },
  {
   "cell_type": "code",
   "execution_count": null,
   "metadata": {},
   "outputs": [],
   "source": []
  },
  {
   "cell_type": "markdown",
   "metadata": {},
   "source": [
    "checks and formatting of MISO/SEAMS loaded dfs"
   ]
  },
  {
   "cell_type": "code",
   "execution_count": 136,
   "metadata": {},
   "outputs": [],
   "source": [
    "#clean tx\n",
    "retain_cols = ['Line','From','To','FW','BW','Area From','Area To']\n",
    "cleaned_seams_transmission_df = seams_transmission_df[retain_cols].dropna(subset=retain_cols)\n",
    "\n",
    "#drop generators that aren't in MISO-mapped zones(for now)\n",
    "#gen_data[gen_data[\"Unit Type\"].isin(self.gentypes)\n",
    "#seams_generation_df = seams_generation_df[seams_generation_df['Bubble']!='DK'].reset_index()\n",
    "seams_generation_df = seams_generation_df[seams_generation_df['Bubble'].isin(list(seams_mapping_df['CEP Bus ID']))].reset_index()"
   ]
  },
  {
   "cell_type": "markdown",
   "metadata": {},
   "source": [
    "notes, if desired"
   ]
  },
  {
   "cell_type": "code",
   "execution_count": 144,
   "metadata": {},
   "outputs": [
    {
     "data": {
      "text/plain": [
       "0      0.024\n",
       "1      0.024\n",
       "2      0.024\n",
       "3      0.024\n",
       "4      0.024\n",
       "       ...  \n",
       "758    0.024\n",
       "759    0.024\n",
       "760    0.024\n",
       "761    0.024\n",
       "762    0.024\n",
       "Name: Forced Outage Rate, Length: 763, dtype: float64"
      ]
     },
     "execution_count": 144,
     "metadata": {},
     "output_type": "execute_result"
    }
   ],
   "source": [
    "seams_generation_df['Forced Outage Rate']*.01"
   ]
  },
  {
   "cell_type": "code",
   "execution_count": 215,
   "metadata": {},
   "outputs": [],
   "source": [
    "### GENERATORS ###\n",
    "generators_dtype = np.dtype([(\"name\", h5py.special_dtype(vlen=str)), \n",
    "                      (\"category\", h5py.special_dtype(vlen=str)),\n",
    "                      (\"region\", h5py.special_dtype(vlen=str))])\n",
    "\n",
    "generators_data = np.zeros((len(seams_generation_df.index),), dtype=generators_dtype)\n",
    "generators_data['name'] = tuple(seams_generation_df['Generator Name'])\n",
    "generators_data['category'] = tuple(seams_generation_df['category'])\n",
    "generators_data['region'] = tuple(seams_generation_df['Bubble'])\n",
    "\n",
    "#creates hourly capacity values for all generators\n",
    "row_len = 8760#5000#len(seams_load_df.index)\n",
    "capacity_np = np.asarray(np.ones((row_len,1))@np.asmatrix(np.asarray(seams_generation_df['Max Capacity'])),dtype=np.int32)\n",
    "failure_np = np.asarray(np.ones((row_len,1))@np.asmatrix(np.asarray(seams_generation_df['Forced Outage Rate']*.0001)),dtype=np.float)\n",
    "repair_np  = np.asarray(np.ones((row_len,len(seams_generation_df.index))),dtype=np.float)*.01#@np.ones(,dtype=np.int32)\n",
    "\n",
    "### REGIONS ###\n",
    "regions_dtype = np.dtype([(\"name\",h5py.special_dtype(vlen=str))])\n",
    "regions_data = np.zeros((len(seams_mapping_df.index),),dtype=regions_dtype)\n",
    "regions_data['name'] = tuple(seams_mapping_df['CEP Bus ID'])\n",
    "\n",
    "### INTERFACES ###\n",
    "interfaces_dtype = np.dtype([(\"region_from\",h5py.special_dtype(vlen=str)),\n",
    "                         (\"region_to\",h5py.special_dtype(vlen=str))])\n",
    "\n",
    "interfaces_data = np.zeros((len(cleaned_seams_transmission_df.index),),dtype=interfaces_dtype)\n",
    "interfaces_data['region_from'] = tuple(cleaned_seams_transmission_df['From'].astype(int).astype(str))\n",
    "interfaces_data['region_to'] = tuple(cleaned_seams_transmission_df['To'].astype(int).astype(str))\n",
    "\n",
    "txfrom_np = np.asarray(np.ones((row_len,1))@np.asmatrix(np.asarray(cleaned_seams_transmission_df['FW'])),dtype=np.int32)\n",
    "txto_np = np.asarray(np.ones((row_len,1))@np.asmatrix(np.asarray(cleaned_seams_transmission_df['BW'])),dtype=np.int32)\n",
    "\n",
    "### LINES ###\n",
    "lines_dtype = np.dtype([(\"name\",h5py.special_dtype(vlen=str)),\n",
    "                        (\"category\",h5py.special_dtype(vlen=str)),\n",
    "                        (\"region_from\",h5py.special_dtype(vlen=str)),\n",
    "                         (\"region_to\",h5py.special_dtype(vlen=str))])\n",
    "\n",
    "lines_data = np.zeros((len(cleaned_seams_transmission_df.index),),dtype=lines_dtype)\n",
    "lines_data['name'] = tuple(cleaned_seams_transmission_df['Line'])\n",
    "lines_data['category'] = tuple(cleaned_seams_transmission_df['Area From'])\n",
    "lines_data['region_from'] = tuple(cleaned_seams_transmission_df['From'].astype(int).astype(str))\n",
    "lines_data['region_to'] = tuple(cleaned_seams_transmission_df['To'].astype(int).astype(str))\n",
    "\n",
    "txfailure_np = np.asarray(np.ones((row_len,len(cleaned_seams_transmission_df.index))),dtype=np.float)*.0001\n",
    "txrecovery_np = np.asarray(np.ones((row_len,len(cleaned_seams_transmission_df.index))),dtype=np.float)*.01"
   ]
  },
  {
   "cell_type": "code",
   "execution_count": 217,
   "metadata": {},
   "outputs": [
    {
     "name": "stdout",
     "output_type": "stream",
     "text": [
      "<class 'numpy.int64'>\n",
      "<class 'numpy.int64'>\n"
     ]
    }
   ],
   "source": [
    "metadata = {'pras_dataversion':'v0.5.0',\n",
    "        'start_timestamp':'2012-01-01T00:00:00-05:00',\n",
    "        'timestep_count': row_len,\n",
    "                'timestep_length':1,\n",
    "               'timestep_unit':'h',\n",
    "               'power_unit':'MW',\n",
    "               'energy_unit':'MWh'}\n",
    "#print(len(metadata['start_timestamp']))\n",
    "with h5py.File('test.pras', 'w',track_order=True) as f:\n",
    "    #attrs\n",
    "    for k,v in metadata.items():\n",
    "        f.attrs[k] = v\n",
    "        if type(f.attrs[k])==np.int32:\n",
    "            f.attrs[k] = np.int64(f.attrs[k])#dtype(np.int64)\n",
    "            print(type(f.attrs[k]))\n",
    "    #regions\n",
    "    regions_group = f.create_group('regions')\n",
    "    regions_group.create_dataset('_core',data=regions_data) #rcore = \n",
    "    regions_group.create_dataset('load',data=np.asarray(seams_load_df.iloc[:row_len,1:],dtype=np.int32),dtype=np.int32)\n",
    "    \n",
    "    #generators\n",
    "    generators_group = f.create_group('generators')\n",
    "    generators_group.create_dataset('_core',data=generators_data) #gcore = \n",
    "    generators_group.create_dataset('capacity',data=capacity_np,dtype=np.int32)\n",
    "    generators_group.create_dataset('failureprobability',data=failure_np,dtype=np.float)\n",
    "    generators_group.create_dataset('repairprobability',data=repair_np,dtype=np.float)\n",
    "    \n",
    "    #interfaces\n",
    "    interfaces_group = f.create_group('interfaces')\n",
    "    interfaces_group.create_dataset('_core',data=interfaces_data)\n",
    "    interfaces_group.create_dataset('forwardcapacity',data=txfrom_np,dtype=np.int32)\n",
    "    interfaces_group.create_dataset('backwardcapacity',data=txto_np,dtype=np.int32)\n",
    "    \n",
    "    \n",
    "    #lines\n",
    "    lines_group = f.create_group('lines')\n",
    "    lines_group.create_dataset('_core',data=lines_data)\n",
    "    lines_group.create_dataset('forwardcapacity',data=txfrom_np,dtype=np.int32)\n",
    "    lines_group.create_dataset('backwardcapacity',data=txto_np,dtype=np.int32)\n",
    "    lines_group.create_dataset('failureprobability',data=txfailure_np,dtype=np.float)\n",
    "    lines_group.create_dataset('repairprobability',data=txrecovery_np,dtype=np.float)\n",
    "    \n",
    "    #dset_int_1 = f.create_dataset('integers', (10, ), dtype='i1')\n",
    "    #d = g.create_dataset('default', data=arr)\n",
    "    #generators_index = generators_group.create_dataset('_core',data=np.asarray(seams_mapping_df['CEP Bus ID']))#,dtype='Compound'"
   ]
  },
  {
   "cell_type": "code",
   "execution_count": 84,
   "metadata": {},
   "outputs": [
    {
     "name": "stdout",
     "output_type": "stream",
     "text": [
      "Keys: <KeysViewHDF5 ['generators', 'regions']>\n",
      "<HDF5 group \"/generators\" (1 members)>\n",
      "<class 'h5py._hl.group.Group'>\n"
     ]
    }
   ],
   "source": [
    "'''\n",
    "with h5py.File('test.hdf5') as f:\n",
    "    #dset = f.regions_group['_core']\n",
    "    print(rcore)\n",
    "    #print(\"%s:\" % DATASET)\n",
    "    print(\"\\tSerial number:  {0}\".format(dset[\"name\"]))\n",
    "    #print(\"\\tLocation:  {0}\".format(rdata[\"Location\"]))\n",
    "    #print(\"\\tTemperature:  {0}\".format(rdata[\"Temperature\"]))\n",
    "    #print(\"\\tPressure:  {0}\".format(rdata[\"Pressure\"]))\n",
    "'''\n",
    "with h5py.File('test.hdf5', \"r\") as f:\n",
    "    # List all groups\n",
    "    #print(f.values)\n",
    "    print(\"Keys: %s\" % f.keys())\n",
    "    a_group_key = list(f.keys())[0]\n",
    "\n",
    "    # Get the data\n",
    "    data = f[a_group_key]\n",
    "    print(data)\n",
    "    print(type(data))"
   ]
  },
  {
   "cell_type": "code",
   "execution_count": null,
   "metadata": {},
   "outputs": [],
   "source": [
    "#https://support.hdfgroup.org/ftp/HDF5/examples/python/hdf5examples-py/high_level/h5ex_t_cmpd.py\n",
    "\"\"\"\n",
    "This example shows how to read and write compound datatypes to a dataset.  The\n",
    "program first writes compound structures to a dataset with a dataspace of DIM0,\n",
    "then closes the file.  Next, it reopens the file, reads back the data,\n",
    "and outputs it to the screen.\n",
    "\"\"\"\n",
    "import numpy as np\n",
    "import h5py\n",
    "\n",
    "FILE = \"h5ex_t_cmpd.h5\"\n",
    "DATASET = \"DS1\"\n",
    "\n",
    "DIM0 = 4\n",
    "\n",
    "def run():\n",
    "\n",
    "    # Create the compound datatype.\n",
    "    dtype = np.dtype([(\"Serial number\", np.int32), \n",
    "                      (\"Location\",      h5py.special_dtype(vlen=str)),\n",
    "                      (\"Temperature\",   np.float),\n",
    "                      (\"Pressure\",      np.float)])\n",
    "\n",
    "    wdata = np.zeros((DIM0,), dtype=dtype)\n",
    "    wdata['Serial number'] = (1153, 1184, 1027, 1313)\n",
    "    wdata['Location'] = (\"Exterior (static)\", \"Intake\", \"Intake manifold\",\n",
    "                         \"Exhaust manifold\")\n",
    "    wdata['Temperature'] = (53.23, 55.12, 103.55, 1252.89)\n",
    "    wdata['Pressure'] = (24.57, 22.95, 31.23, 84.11)\n",
    "\n",
    "    with h5py.File(FILE, 'w') as f:\n",
    "        dset = f.create_dataset(DATASET, (DIM0,), dtype=dtype)\n",
    "        dset[...] = wdata\n",
    "\n",
    "\n",
    "    with h5py.File(FILE) as f:\n",
    "        dset = f[DATASET]\n",
    "        rdata = dset[...]\n",
    "\n",
    "    print(\"%s:\" % DATASET)\n",
    "    print(\"\\tSerial number:  {0}\".format(rdata[\"Serial number\"]))\n",
    "    print(\"\\tLocation:  {0}\".format(rdata[\"Location\"]))\n",
    "    print(\"\\tTemperature:  {0}\".format(rdata[\"Temperature\"]))\n",
    "    print(\"\\tPressure:  {0}\".format(rdata[\"Pressure\"]))\n",
    "\n",
    "\n",
    "if __name__ == \"__main__\":\n",
    "    run()        \n",
    "   \n"
   ]
  }
 ],
 "metadata": {
  "kernelspec": {
   "display_name": "Python 3",
   "language": "python",
   "name": "python3"
  },
  "language_info": {
   "codemirror_mode": {
    "name": "ipython",
    "version": 3
   },
   "file_extension": ".py",
   "mimetype": "text/x-python",
   "name": "python",
   "nbconvert_exporter": "python",
   "pygments_lexer": "ipython3",
   "version": "3.7.4"
  }
 },
 "nbformat": 4,
 "nbformat_minor": 2
}
